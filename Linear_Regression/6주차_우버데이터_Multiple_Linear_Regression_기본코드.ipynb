{
 "cells": [
  {
   "cell_type": "markdown",
   "metadata": {
    "id": "JqqGTY_4n-D-"
   },
   "source": [
    "# Multiple Linear Regression"
   ]
  },
  {
   "cell_type": "markdown",
   "metadata": {
    "id": "1jrov3gjoGJm"
   },
   "source": [
    "## Import packages"
   ]
  },
  {
   "cell_type": "code",
   "execution_count": 2,
   "metadata": {
    "id": "h2gyfKfgoFqa"
   },
   "outputs": [],
   "source": [
    "import pandas as pd\n",
    "import numpy as np\n",
    "import matplotlib.pyplot as plt\n",
    "from sklearn.model_selection import train_test_split\n",
    "\n",
    "np.set_printoptions(precision=6, suppress=True)"
   ]
  },
  {
   "cell_type": "markdown",
   "metadata": {
    "id": "F7zbSpMPoKyN"
   },
   "source": [
    "## 데이터셋 로딩\n",
    "- Modified Uber dataset\n",
    "1. fare_amount: 우버 요금 지불 금액 (종속 변수, 목표 값)\n",
    "2. pickup_x: 승객 탑승 x 좌표\n",
    "3. pickup_y: 승객 탑승 y 좌표\n",
    "4. dropoff_x: 승객 하차 x 좌표\n",
    "5. dropoff_y: 승객 하차 y 좌표\n",
    "6. passenser_count: 탑승 승객 수"
   ]
  },
  {
   "cell_type": "code",
   "execution_count": 3,
   "metadata": {
    "id": "3dsTsL0toCH5"
   },
   "outputs": [
    {
     "data": {
      "text/html": [
       "<div>\n",
       "<style scoped>\n",
       "    .dataframe tbody tr th:only-of-type {\n",
       "        vertical-align: middle;\n",
       "    }\n",
       "\n",
       "    .dataframe tbody tr th {\n",
       "        vertical-align: top;\n",
       "    }\n",
       "\n",
       "    .dataframe thead th {\n",
       "        text-align: right;\n",
       "    }\n",
       "</style>\n",
       "<table border=\"1\" class=\"dataframe\">\n",
       "  <thead>\n",
       "    <tr style=\"text-align: right;\">\n",
       "      <th></th>\n",
       "      <th>fare_amount</th>\n",
       "      <th>pickup_x</th>\n",
       "      <th>pickup_y</th>\n",
       "      <th>dropoff_x</th>\n",
       "      <th>dropoff_y</th>\n",
       "      <th>passenger_count</th>\n",
       "    </tr>\n",
       "  </thead>\n",
       "  <tbody>\n",
       "    <tr>\n",
       "      <th>0</th>\n",
       "      <td>7.5</td>\n",
       "      <td>26.801401</td>\n",
       "      <td>31.975242</td>\n",
       "      <td>82.753859</td>\n",
       "      <td>78.351728</td>\n",
       "      <td>1</td>\n",
       "    </tr>\n",
       "    <tr>\n",
       "      <th>1</th>\n",
       "      <td>7.7</td>\n",
       "      <td>76.052494</td>\n",
       "      <td>88.508509</td>\n",
       "      <td>116.105293</td>\n",
       "      <td>92.327957</td>\n",
       "      <td>1</td>\n",
       "    </tr>\n",
       "    <tr>\n",
       "      <th>2</th>\n",
       "      <td>12.9</td>\n",
       "      <td>15.267869</td>\n",
       "      <td>43.955819</td>\n",
       "      <td>65.431587</td>\n",
       "      <td>61.653900</td>\n",
       "      <td>1</td>\n",
       "    </tr>\n",
       "    <tr>\n",
       "      <th>3</th>\n",
       "      <td>5.3</td>\n",
       "      <td>20.332390</td>\n",
       "      <td>62.963745</td>\n",
       "      <td>32.219453</td>\n",
       "      <td>119.648762</td>\n",
       "      <td>3</td>\n",
       "    </tr>\n",
       "    <tr>\n",
       "      <th>4</th>\n",
       "      <td>16.0</td>\n",
       "      <td>55.287436</td>\n",
       "      <td>0.890515</td>\n",
       "      <td>128.745703</td>\n",
       "      <td>53.748090</td>\n",
       "      <td>5</td>\n",
       "    </tr>\n",
       "    <tr>\n",
       "      <th>...</th>\n",
       "      <td>...</td>\n",
       "      <td>...</td>\n",
       "      <td>...</td>\n",
       "      <td>...</td>\n",
       "      <td>...</td>\n",
       "      <td>...</td>\n",
       "    </tr>\n",
       "    <tr>\n",
       "      <th>199994</th>\n",
       "      <td>3.0</td>\n",
       "      <td>84.707837</td>\n",
       "      <td>88.315857</td>\n",
       "      <td>119.137618</td>\n",
       "      <td>110.819151</td>\n",
       "      <td>1</td>\n",
       "    </tr>\n",
       "    <tr>\n",
       "      <th>199995</th>\n",
       "      <td>7.5</td>\n",
       "      <td>89.307465</td>\n",
       "      <td>90.446660</td>\n",
       "      <td>148.777837</td>\n",
       "      <td>101.245691</td>\n",
       "      <td>1</td>\n",
       "    </tr>\n",
       "    <tr>\n",
       "      <th>199996</th>\n",
       "      <td>30.9</td>\n",
       "      <td>11.018380</td>\n",
       "      <td>10.443077</td>\n",
       "      <td>45.211427</td>\n",
       "      <td>35.886442</td>\n",
       "      <td>2</td>\n",
       "    </tr>\n",
       "    <tr>\n",
       "      <th>199997</th>\n",
       "      <td>14.5</td>\n",
       "      <td>55.104242</td>\n",
       "      <td>33.397616</td>\n",
       "      <td>96.482991</td>\n",
       "      <td>103.718360</td>\n",
       "      <td>1</td>\n",
       "    </tr>\n",
       "    <tr>\n",
       "      <th>199998</th>\n",
       "      <td>14.1</td>\n",
       "      <td>62.020770</td>\n",
       "      <td>27.142860</td>\n",
       "      <td>86.086272</td>\n",
       "      <td>50.534788</td>\n",
       "      <td>1</td>\n",
       "    </tr>\n",
       "  </tbody>\n",
       "</table>\n",
       "<p>199999 rows × 6 columns</p>\n",
       "</div>"
      ],
      "text/plain": [
       "        fare_amount   pickup_x   pickup_y   dropoff_x   dropoff_y  \\\n",
       "0               7.5  26.801401  31.975242   82.753859   78.351728   \n",
       "1               7.7  76.052494  88.508509  116.105293   92.327957   \n",
       "2              12.9  15.267869  43.955819   65.431587   61.653900   \n",
       "3               5.3  20.332390  62.963745   32.219453  119.648762   \n",
       "4              16.0  55.287436   0.890515  128.745703   53.748090   \n",
       "...             ...        ...        ...         ...         ...   \n",
       "199994          3.0  84.707837  88.315857  119.137618  110.819151   \n",
       "199995          7.5  89.307465  90.446660  148.777837  101.245691   \n",
       "199996         30.9  11.018380  10.443077   45.211427   35.886442   \n",
       "199997         14.5  55.104242  33.397616   96.482991  103.718360   \n",
       "199998         14.1  62.020770  27.142860   86.086272   50.534788   \n",
       "\n",
       "        passenger_count  \n",
       "0                     1  \n",
       "1                     1  \n",
       "2                     1  \n",
       "3                     3  \n",
       "4                     5  \n",
       "...                 ...  \n",
       "199994                1  \n",
       "199995                1  \n",
       "199996                2  \n",
       "199997                1  \n",
       "199998                1  \n",
       "\n",
       "[199999 rows x 6 columns]"
      ]
     },
     "execution_count": 3,
     "metadata": {},
     "output_type": "execute_result"
    }
   ],
   "source": [
    "# Download dataset file\n",
    "# !wget \"https://dongaackr-my.sharepoint.com/:x:/g/personal/sjkim_donga_ac_kr/EYMXYk25h2VBtPXtu3QaBqoBJK4cK-TI9mamHoFGJRYn5Q?e=8x2MTn&download=1\" -q -O modified_uber.csv\n",
    "\n",
    "# Load dataset file\n",
    "data = pd.read_csv('modified_uber.csv')\n",
    "data = data.drop(['Unnamed: 0.1', 'Unnamed: 0', 'key', 'pickup_datetime'], axis=1)\n",
    "data = data.dropna()\n",
    "data"
   ]
  },
  {
   "cell_type": "markdown",
   "metadata": {
    "id": "V5eaGirt5j2K"
   },
   "source": [
    "## L1, L2 이동거리 계산 및 열 추가\n",
    "\n",
    "**L1 Distance (맨해튼 거리):**\n",
    "\n",
    "L1_distance = |pickup_x - dropoff_x| + |pickup_y - dropoff_y|\n",
    "\n",
    "**L2 Distance (유클리드 거리):**\n",
    "\n",
    "L2_distance = √((pickup_x - dropoff_x)² + (pickup_y - dropoff_y)²)\n",
    "\n",
    "- 절댓값 계산 함수: np.abs()\n",
    "- 제곱근 (square root) 계산 함수: np.sqrt()"
   ]
  },
  {
   "cell_type": "code",
   "execution_count": 9,
   "metadata": {
    "id": "aNmiCHbR5ipB"
   },
   "outputs": [
    {
     "data": {
      "text/html": [
       "<div>\n",
       "<style scoped>\n",
       "    .dataframe tbody tr th:only-of-type {\n",
       "        vertical-align: middle;\n",
       "    }\n",
       "\n",
       "    .dataframe tbody tr th {\n",
       "        vertical-align: top;\n",
       "    }\n",
       "\n",
       "    .dataframe thead th {\n",
       "        text-align: right;\n",
       "    }\n",
       "</style>\n",
       "<table border=\"1\" class=\"dataframe\">\n",
       "  <thead>\n",
       "    <tr style=\"text-align: right;\">\n",
       "      <th></th>\n",
       "      <th>fare_amount</th>\n",
       "      <th>pickup_x</th>\n",
       "      <th>pickup_y</th>\n",
       "      <th>dropoff_x</th>\n",
       "      <th>dropoff_y</th>\n",
       "      <th>passenger_count</th>\n",
       "      <th>L1_distance</th>\n",
       "      <th>L2_distance</th>\n",
       "    </tr>\n",
       "  </thead>\n",
       "  <tbody>\n",
       "    <tr>\n",
       "      <th>0</th>\n",
       "      <td>7.5</td>\n",
       "      <td>26.801401</td>\n",
       "      <td>31.975242</td>\n",
       "      <td>82.753859</td>\n",
       "      <td>78.351728</td>\n",
       "      <td>1</td>\n",
       "      <td>102.328943</td>\n",
       "      <td>72.673626</td>\n",
       "    </tr>\n",
       "    <tr>\n",
       "      <th>1</th>\n",
       "      <td>7.7</td>\n",
       "      <td>76.052494</td>\n",
       "      <td>88.508509</td>\n",
       "      <td>116.105293</td>\n",
       "      <td>92.327957</td>\n",
       "      <td>1</td>\n",
       "      <td>43.872247</td>\n",
       "      <td>40.234499</td>\n",
       "    </tr>\n",
       "    <tr>\n",
       "      <th>2</th>\n",
       "      <td>12.9</td>\n",
       "      <td>15.267869</td>\n",
       "      <td>43.955819</td>\n",
       "      <td>65.431587</td>\n",
       "      <td>61.653900</td>\n",
       "      <td>1</td>\n",
       "      <td>67.861798</td>\n",
       "      <td>53.194179</td>\n",
       "    </tr>\n",
       "    <tr>\n",
       "      <th>3</th>\n",
       "      <td>5.3</td>\n",
       "      <td>20.332390</td>\n",
       "      <td>62.963745</td>\n",
       "      <td>32.219453</td>\n",
       "      <td>119.648762</td>\n",
       "      <td>3</td>\n",
       "      <td>68.572080</td>\n",
       "      <td>57.917988</td>\n",
       "    </tr>\n",
       "    <tr>\n",
       "      <th>4</th>\n",
       "      <td>16.0</td>\n",
       "      <td>55.287436</td>\n",
       "      <td>0.890515</td>\n",
       "      <td>128.745703</td>\n",
       "      <td>53.748090</td>\n",
       "      <td>5</td>\n",
       "      <td>126.315842</td>\n",
       "      <td>90.498841</td>\n",
       "    </tr>\n",
       "    <tr>\n",
       "      <th>...</th>\n",
       "      <td>...</td>\n",
       "      <td>...</td>\n",
       "      <td>...</td>\n",
       "      <td>...</td>\n",
       "      <td>...</td>\n",
       "      <td>...</td>\n",
       "      <td>...</td>\n",
       "      <td>...</td>\n",
       "    </tr>\n",
       "    <tr>\n",
       "      <th>199994</th>\n",
       "      <td>3.0</td>\n",
       "      <td>84.707837</td>\n",
       "      <td>88.315857</td>\n",
       "      <td>119.137618</td>\n",
       "      <td>110.819151</td>\n",
       "      <td>1</td>\n",
       "      <td>56.933076</td>\n",
       "      <td>41.131595</td>\n",
       "    </tr>\n",
       "    <tr>\n",
       "      <th>199995</th>\n",
       "      <td>7.5</td>\n",
       "      <td>89.307465</td>\n",
       "      <td>90.446660</td>\n",
       "      <td>148.777837</td>\n",
       "      <td>101.245691</td>\n",
       "      <td>1</td>\n",
       "      <td>70.269403</td>\n",
       "      <td>60.442901</td>\n",
       "    </tr>\n",
       "    <tr>\n",
       "      <th>199996</th>\n",
       "      <td>30.9</td>\n",
       "      <td>11.018380</td>\n",
       "      <td>10.443077</td>\n",
       "      <td>45.211427</td>\n",
       "      <td>35.886442</td>\n",
       "      <td>2</td>\n",
       "      <td>59.636412</td>\n",
       "      <td>42.620761</td>\n",
       "    </tr>\n",
       "    <tr>\n",
       "      <th>199997</th>\n",
       "      <td>14.5</td>\n",
       "      <td>55.104242</td>\n",
       "      <td>33.397616</td>\n",
       "      <td>96.482991</td>\n",
       "      <td>103.718360</td>\n",
       "      <td>1</td>\n",
       "      <td>111.699492</td>\n",
       "      <td>81.591714</td>\n",
       "    </tr>\n",
       "    <tr>\n",
       "      <th>199998</th>\n",
       "      <td>14.1</td>\n",
       "      <td>62.020770</td>\n",
       "      <td>27.142860</td>\n",
       "      <td>86.086272</td>\n",
       "      <td>50.534788</td>\n",
       "      <td>1</td>\n",
       "      <td>47.457430</td>\n",
       "      <td>33.560851</td>\n",
       "    </tr>\n",
       "  </tbody>\n",
       "</table>\n",
       "<p>199999 rows × 8 columns</p>\n",
       "</div>"
      ],
      "text/plain": [
       "        fare_amount   pickup_x   pickup_y   dropoff_x   dropoff_y  \\\n",
       "0               7.5  26.801401  31.975242   82.753859   78.351728   \n",
       "1               7.7  76.052494  88.508509  116.105293   92.327957   \n",
       "2              12.9  15.267869  43.955819   65.431587   61.653900   \n",
       "3               5.3  20.332390  62.963745   32.219453  119.648762   \n",
       "4              16.0  55.287436   0.890515  128.745703   53.748090   \n",
       "...             ...        ...        ...         ...         ...   \n",
       "199994          3.0  84.707837  88.315857  119.137618  110.819151   \n",
       "199995          7.5  89.307465  90.446660  148.777837  101.245691   \n",
       "199996         30.9  11.018380  10.443077   45.211427   35.886442   \n",
       "199997         14.5  55.104242  33.397616   96.482991  103.718360   \n",
       "199998         14.1  62.020770  27.142860   86.086272   50.534788   \n",
       "\n",
       "        passenger_count  L1_distance  L2_distance  \n",
       "0                     1   102.328943    72.673626  \n",
       "1                     1    43.872247    40.234499  \n",
       "2                     1    67.861798    53.194179  \n",
       "3                     3    68.572080    57.917988  \n",
       "4                     5   126.315842    90.498841  \n",
       "...                 ...          ...          ...  \n",
       "199994                1    56.933076    41.131595  \n",
       "199995                1    70.269403    60.442901  \n",
       "199996                2    59.636412    42.620761  \n",
       "199997                1   111.699492    81.591714  \n",
       "199998                1    47.457430    33.560851  \n",
       "\n",
       "[199999 rows x 8 columns]"
      ]
     },
     "execution_count": 9,
     "metadata": {},
     "output_type": "execute_result"
    }
   ],
   "source": [
    "\n",
    "\n",
    "data['L1_distance'] = np.abs(data['pickup_x'] - data['dropoff_x']) + np.abs(data['pickup_y'] - data['dropoff_y'])\n",
    "data['L2_distance'] = np.sqrt((data['pickup_x'] - data['dropoff_x'])**2 + (data['pickup_y'] - data['dropoff_y'])**2)\n",
    "\n",
    "\n",
    "data # L1/L2_distance 열이 정상적으로 계산/추가되었는지 확인"
   ]
  },
  {
   "cell_type": "markdown",
   "metadata": {
    "id": "xHwhZaXi8dSz"
   },
   "source": [
    "## 데이터셋 전처리 (가우시안 정규화)"
   ]
  },
  {
   "cell_type": "code",
   "execution_count": 10,
   "metadata": {
    "id": "fibr-EWh8dJG"
   },
   "outputs": [
    {
     "data": {
      "text/html": [
       "<div>\n",
       "<style scoped>\n",
       "    .dataframe tbody tr th:only-of-type {\n",
       "        vertical-align: middle;\n",
       "    }\n",
       "\n",
       "    .dataframe tbody tr th {\n",
       "        vertical-align: top;\n",
       "    }\n",
       "\n",
       "    .dataframe thead th {\n",
       "        text-align: right;\n",
       "    }\n",
       "</style>\n",
       "<table border=\"1\" class=\"dataframe\">\n",
       "  <thead>\n",
       "    <tr style=\"text-align: right;\">\n",
       "      <th></th>\n",
       "      <th>fare_amount</th>\n",
       "      <th>pickup_x</th>\n",
       "      <th>pickup_y</th>\n",
       "      <th>dropoff_x</th>\n",
       "      <th>dropoff_y</th>\n",
       "      <th>passenger_count</th>\n",
       "      <th>L1_distance</th>\n",
       "      <th>L2_distance</th>\n",
       "    </tr>\n",
       "  </thead>\n",
       "  <tbody>\n",
       "    <tr>\n",
       "      <th>0</th>\n",
       "      <td>-0.389819</td>\n",
       "      <td>-0.802319</td>\n",
       "      <td>-0.625718</td>\n",
       "      <td>-0.022205</td>\n",
       "      <td>-0.144155</td>\n",
       "      <td>-0.493900</td>\n",
       "      <td>1.116659</td>\n",
       "      <td>0.947648</td>\n",
       "    </tr>\n",
       "    <tr>\n",
       "      <th>1</th>\n",
       "      <td>-0.369620</td>\n",
       "      <td>0.902317</td>\n",
       "      <td>1.331358</td>\n",
       "      <td>0.909427</td>\n",
       "      <td>0.246986</td>\n",
       "      <td>-0.493900</td>\n",
       "      <td>-0.732034</td>\n",
       "      <td>-0.489573</td>\n",
       "    </tr>\n",
       "    <tr>\n",
       "      <th>2</th>\n",
       "      <td>0.155539</td>\n",
       "      <td>-1.201508</td>\n",
       "      <td>-0.210973</td>\n",
       "      <td>-0.506083</td>\n",
       "      <td>-0.611465</td>\n",
       "      <td>-0.493900</td>\n",
       "      <td>0.026636</td>\n",
       "      <td>0.084608</td>\n",
       "    </tr>\n",
       "    <tr>\n",
       "      <th>3</th>\n",
       "      <td>-0.612001</td>\n",
       "      <td>-1.026219</td>\n",
       "      <td>0.447046</td>\n",
       "      <td>-1.433824</td>\n",
       "      <td>1.011592</td>\n",
       "      <td>0.949106</td>\n",
       "      <td>0.049098</td>\n",
       "      <td>0.293897</td>\n",
       "    </tr>\n",
       "    <tr>\n",
       "      <th>4</th>\n",
       "      <td>0.468615</td>\n",
       "      <td>0.183615</td>\n",
       "      <td>-1.701813</td>\n",
       "      <td>1.262522</td>\n",
       "      <td>-0.832718</td>\n",
       "      <td>2.392113</td>\n",
       "      <td>1.875245</td>\n",
       "      <td>1.737397</td>\n",
       "    </tr>\n",
       "    <tr>\n",
       "      <th>...</th>\n",
       "      <td>...</td>\n",
       "      <td>...</td>\n",
       "      <td>...</td>\n",
       "      <td>...</td>\n",
       "      <td>...</td>\n",
       "      <td>...</td>\n",
       "      <td>...</td>\n",
       "      <td>...</td>\n",
       "    </tr>\n",
       "    <tr>\n",
       "      <th>199994</th>\n",
       "      <td>-0.844283</td>\n",
       "      <td>1.201889</td>\n",
       "      <td>1.324689</td>\n",
       "      <td>0.994132</td>\n",
       "      <td>0.764485</td>\n",
       "      <td>-0.493900</td>\n",
       "      <td>-0.318985</td>\n",
       "      <td>-0.449827</td>\n",
       "    </tr>\n",
       "    <tr>\n",
       "      <th>199995</th>\n",
       "      <td>-0.389819</td>\n",
       "      <td>1.361087</td>\n",
       "      <td>1.398454</td>\n",
       "      <td>1.822096</td>\n",
       "      <td>0.496560</td>\n",
       "      <td>-0.493900</td>\n",
       "      <td>0.102776</td>\n",
       "      <td>0.405764</td>\n",
       "    </tr>\n",
       "    <tr>\n",
       "      <th>199996</th>\n",
       "      <td>1.973398</td>\n",
       "      <td>-1.348587</td>\n",
       "      <td>-1.371121</td>\n",
       "      <td>-1.070909</td>\n",
       "      <td>-1.332598</td>\n",
       "      <td>0.227603</td>\n",
       "      <td>-0.233492</td>\n",
       "      <td>-0.383849</td>\n",
       "    </tr>\n",
       "    <tr>\n",
       "      <th>199997</th>\n",
       "      <td>0.317126</td>\n",
       "      <td>0.177275</td>\n",
       "      <td>-0.576478</td>\n",
       "      <td>0.361302</td>\n",
       "      <td>0.565761</td>\n",
       "      <td>-0.493900</td>\n",
       "      <td>1.413003</td>\n",
       "      <td>1.342766</td>\n",
       "    </tr>\n",
       "    <tr>\n",
       "      <th>199998</th>\n",
       "      <td>0.276729</td>\n",
       "      <td>0.416664</td>\n",
       "      <td>-0.793006</td>\n",
       "      <td>0.070882</td>\n",
       "      <td>-0.922646</td>\n",
       "      <td>-0.493900</td>\n",
       "      <td>-0.618652</td>\n",
       "      <td>-0.785250</td>\n",
       "    </tr>\n",
       "  </tbody>\n",
       "</table>\n",
       "<p>199999 rows × 8 columns</p>\n",
       "</div>"
      ],
      "text/plain": [
       "        fare_amount  pickup_x  pickup_y  dropoff_x  dropoff_y  \\\n",
       "0         -0.389819 -0.802319 -0.625718  -0.022205  -0.144155   \n",
       "1         -0.369620  0.902317  1.331358   0.909427   0.246986   \n",
       "2          0.155539 -1.201508 -0.210973  -0.506083  -0.611465   \n",
       "3         -0.612001 -1.026219  0.447046  -1.433824   1.011592   \n",
       "4          0.468615  0.183615 -1.701813   1.262522  -0.832718   \n",
       "...             ...       ...       ...        ...        ...   \n",
       "199994    -0.844283  1.201889  1.324689   0.994132   0.764485   \n",
       "199995    -0.389819  1.361087  1.398454   1.822096   0.496560   \n",
       "199996     1.973398 -1.348587 -1.371121  -1.070909  -1.332598   \n",
       "199997     0.317126  0.177275 -0.576478   0.361302   0.565761   \n",
       "199998     0.276729  0.416664 -0.793006   0.070882  -0.922646   \n",
       "\n",
       "        passenger_count  L1_distance  L2_distance  \n",
       "0             -0.493900     1.116659     0.947648  \n",
       "1             -0.493900    -0.732034    -0.489573  \n",
       "2             -0.493900     0.026636     0.084608  \n",
       "3              0.949106     0.049098     0.293897  \n",
       "4              2.392113     1.875245     1.737397  \n",
       "...                 ...          ...          ...  \n",
       "199994        -0.493900    -0.318985    -0.449827  \n",
       "199995        -0.493900     0.102776     0.405764  \n",
       "199996         0.227603    -0.233492    -0.383849  \n",
       "199997        -0.493900     1.413003     1.342766  \n",
       "199998        -0.493900    -0.618652    -0.785250  \n",
       "\n",
       "[199999 rows x 8 columns]"
      ]
     },
     "execution_count": 10,
     "metadata": {},
     "output_type": "execute_result"
    }
   ],
   "source": [
    "data = data.dropna()\n",
    "\n",
    "# 데이터셋 가우시안 정규화\n",
    "data_normalized = (data - data.mean()) / data.std()\n",
    "data_normalized"
   ]
  },
  {
   "cell_type": "markdown",
   "metadata": {
    "id": "MvSpx56YTzCV"
   },
   "source": [
    "## 택시요금 예측에 사용할 데이터 지정"
   ]
  },
  {
   "cell_type": "code",
   "execution_count": 11,
   "metadata": {
    "id": "pO-pS9o8Ty2f"
   },
   "outputs": [
    {
     "name": "stdout",
     "output_type": "stream",
     "text": [
      "(159999, 3)\n",
      "(159999, 1)\n"
     ]
    }
   ],
   "source": [
    "\n",
    "# 예측에 사용할 데이터들에 대한 2차원 행렬 변환\n",
    "X = np.array(data_normalized[['L1_distance', 'L2_distance', 'passenger_count']]) # 입력 데이터 설정\n",
    "Y = np.array(data_normalized[['fare_amount']])\n",
    "\n",
    "# Train dataset / Test dataset 분할\n",
    "X_train, X_test, Y_train, Y_test = train_test_split(X, Y, test_size=0.2, random_state=1234)\n",
    "\n",
    "# Train dataset 형상 확인\n",
    "print(X_train.shape)\n",
    "print(Y_train.shape)"
   ]
  },
  {
   "cell_type": "markdown",
   "metadata": {
    "id": "1U_Uz-Aro63o"
   },
   "source": [
    "## Least Square Method 기반 선형 회귀 모델 작성"
   ]
  },
  {
   "cell_type": "markdown",
   "metadata": {
    "id": "gnariij4tqsu"
   },
   "source": [
    "- Least Square Method:\n",
    "$$\\theta = (X^T \\cdot X)^{-1} \\cdot (X^T \\cdot Y)$$\n"
   ]
  },
  {
   "cell_type": "code",
   "execution_count": 12,
   "metadata": {
    "id": "o2epOKJlpBW8"
   },
   "outputs": [],
   "source": [
    "class LinearRegression_LSM():\n",
    "\n",
    "  def __init__(self):\n",
    "    self.theta = None\n",
    "\n",
    "  def fit(self, X, Y):\n",
    "    N = X.shape[0] # N = 입력 데이터 개수\n",
    "\n",
    "    # 입력 X에 대해 bias 차원 추가\n",
    "    bias = np.ones((N, 1))    # N x 1\n",
    "    X = np.hstack([X, bias])  # N x 2\n",
    "\n",
    "    # theta (W, b) 저장을 위한 배열 초기화\n",
    "    self.theta = np.zeros(X.shape[1])\n",
    "\n",
    "    # Least Square Method 수행\n",
    "    XT = X.T\n",
    "    XTX = np.dot(XT, X)\n",
    "    XTX_inverse = np.linalg.inv(XTX)\n",
    "    XTY = np.dot(XT, Y)\n",
    "\n",
    "    self.theta = np.dot(XTX_inverse, XTY)\n",
    "\n",
    "    return self.theta\n",
    "\n",
    "  def predict(self, X):\n",
    "    N = X.shape[0] # N = 입력 데이터 개수\n",
    "\n",
    "    # 입력 X에 대해 bias 차원 추가\n",
    "    bias = np.ones((N, 1)) # N x 1\n",
    "    X = np.hstack([X, bias]) # N x 2\n",
    "\n",
    "    Y_hat = np.dot(X, self.theta)\n",
    "    return Y_hat"
   ]
  },
  {
   "cell_type": "markdown",
   "metadata": {
    "id": "61VdnU3GZlkt"
   },
   "source": [
    "## X_train, Y_train 데이터를 이용한 linear regression 수행 (학습)"
   ]
  },
  {
   "cell_type": "code",
   "execution_count": 13,
   "metadata": {
    "id": "n6XdzrKkZlG9"
   },
   "outputs": [
    {
     "name": "stdout",
     "output_type": "stream",
     "text": [
      "theta = [[-0.638591]\n",
      " [ 1.126015]\n",
      " [ 0.009859]\n",
      " [ 0.000558]]\n"
     ]
    }
   ],
   "source": [
    "model_LSM = LinearRegression_LSM()\n",
    "theta = model_LSM.fit(X_train, Y_train)\n",
    "\n",
    "\n",
    "print(f\"theta = {theta}\")"
   ]
  },
  {
   "cell_type": "markdown",
   "metadata": {
    "id": "3LGc0CcQ2ZJ_"
   },
   "source": [
    "## X_test, Y_test 데이터를 이용한 linear regression 성능 검증 (테스트)\n",
    "\n",
    "$$\n",
    "\\text{MSE} = \\frac{1}{n} \\sum_{i=1}^{n} (Y_i - \\hat{Y}_i)^2\n",
    "$$"
   ]
  },
  {
   "cell_type": "code",
   "execution_count": 14,
   "metadata": {
    "id": "9j2Vxl1MUT-M"
   },
   "outputs": [],
   "source": [
    "# 정답 데이터와 예측 데이터 간 차이 계산\n",
    "def MSE (Y, Y_hat):\n",
    "  error = Y - Y_hat\n",
    "  mse = np.mean(error ** 2)\n",
    "  return mse"
   ]
  },
  {
   "cell_type": "code",
   "execution_count": 15,
   "metadata": {
    "id": "CEsxPtQqzwbU"
   },
   "outputs": [
    {
     "name": "stdout",
     "output_type": "stream",
     "text": [
      "0.7244597712652048\n"
     ]
    }
   ],
   "source": [
    "Y_hat = model_LSM.predict(X_test)\n",
    "print(MSE(Y_test, Y_hat))"
   ]
  },
  {
   "cell_type": "markdown",
   "metadata": {
    "id": "JQTmh6IuWkRS"
   },
   "source": [
    "## 임의 데이터 X 입력 시 Y_hat 예측\n",
    "\n",
    "**가우시안 정규화:**\n",
    "\n",
    "$$\n",
    "x' = \\frac{x - \\mu}{\\sigma}\n",
    "$$\n",
    "\n",
    "**가우시안 역정규화:**\n",
    "\n",
    "$$\n",
    "x = x' \\cdot \\sigma + \\mu\n",
    "$$"
   ]
  },
  {
   "cell_type": "code",
   "execution_count": 17,
   "metadata": {
    "id": "SPYzE9sVWnur"
   },
   "outputs": [
    {
     "name": "stdout",
     "output_type": "stream",
     "text": [
      "Y_hat = [[46.777742]]\n"
     ]
    }
   ],
   "source": [
    "# 가우시안 정규화/역정규화를 위한 평균, 표준편차 저장\n",
    "mean_array = data.mean()\n",
    "std_array = data.std()\n",
    "\n",
    "mean_L1 = mean_array['L1_distance']\n",
    "mean_L2 = mean_array['L2_distance']\n",
    "mean_passenger = mean_array['passenger_count']\n",
    "mean_fare = mean_array['fare_amount']\n",
    "\n",
    "std_L1 = std_array['L1_distance']\n",
    "std_L2 = std_array['L2_distance']\n",
    "std_passenger = std_array['passenger_count']\n",
    "std_fare = std_array['fare_amount']\n",
    "\n",
    "# 임의 데이터 X 생성\n",
    "L1_distance = 250\n",
    "L2_distance = 197\n",
    "passenger_count = 2\n",
    "\n",
    "# 각 입력 변수 X에 대한 정규화 수행\n",
    "L1_distance_norm = (L1_distance - mean_L1) / std_L1\n",
    "L2_distance_norm = (L2_distance - mean_L2) / std_L2\n",
    "passenger_count_norm = (passenger_count - mean_passenger) / std_passenger\n",
    "\n",
    "X_new = np.array([[L1_distance_norm, L2_distance_norm, passenger_count_norm]])\n",
    "\n",
    "# 학습한 모델 theta를 이용해 Y_hat 예측\n",
    "Y_hat = model_LSM.predict(X_new)\n",
    "\n",
    "# 출력 변수 Y에 대한 역정규화 수행\n",
    "Y_hat = (Y_hat * std_fare) + mean_fare\n",
    "\n",
    "print(f\"Y_hat = {Y_hat}\")"
   ]
  }
 ],
 "metadata": {
  "colab": {
   "provenance": [],
   "toc_visible": true
  },
  "kernelspec": {
   "display_name": "LLM_env",
   "language": "python",
   "name": "python3"
  },
  "language_info": {
   "codemirror_mode": {
    "name": "ipython",
    "version": 3
   },
   "file_extension": ".py",
   "mimetype": "text/x-python",
   "name": "python",
   "nbconvert_exporter": "python",
   "pygments_lexer": "ipython3",
   "version": "3.12.8"
  }
 },
 "nbformat": 4,
 "nbformat_minor": 0
}
